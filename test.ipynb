{
 "cells": [
  {
   "cell_type": "code",
   "execution_count": null,
   "metadata": {},
   "outputs": [],
   "source": [
    "# Load the data\n",
    "data_path = r'C:\\Users\\LOQ\\OneDrive\\Pose Health Care\\MA (PPop)\\สถิติ Pose Repairman.xlsx'\n",
    "df = pd.read_excel(data_path, sheet_name=\"ข้อมูลการใช้นำยา\")\n"
   ]
  },
  {
   "cell_type": "code",
   "execution_count": null,
   "metadata": {},
   "outputs": [],
   "source": [
    "df\n",
    "df = df.dropna()\n"
   ]
  },
  {
   "cell_type": "code",
   "execution_count": null,
   "metadata": {},
   "outputs": [
    {
     "data": {
      "text/html": [
       "<div>\n",
       "<style scoped>\n",
       "    .dataframe tbody tr th:only-of-type {\n",
       "        vertical-align: middle;\n",
       "    }\n",
       "\n",
       "    .dataframe tbody tr th {\n",
       "        vertical-align: top;\n",
       "    }\n",
       "\n",
       "    .dataframe thead th {\n",
       "        text-align: right;\n",
       "    }\n",
       "</style>\n",
       "<table border=\"1\" class=\"dataframe\">\n",
       "  <thead>\n",
       "    <tr style=\"text-align: right;\">\n",
       "      <th></th>\n",
       "      <th>แผนก</th>\n",
       "      <th>หมายเลขเครื่อง</th>\n",
       "      <th>ปัญหา</th>\n",
       "      <th>ระยะเวลาในใช้น้ำยา /แบต (วัน)</th>\n",
       "    </tr>\n",
       "  </thead>\n",
       "  <tbody>\n",
       "    <tr>\n",
       "      <th>0</th>\n",
       "      <td>WARD 5C</td>\n",
       "      <td>2</td>\n",
       "      <td>น้ำยาหมด</td>\n",
       "      <td>23</td>\n",
       "    </tr>\n",
       "    <tr>\n",
       "      <th>1</th>\n",
       "      <td>WARD 5C</td>\n",
       "      <td>3</td>\n",
       "      <td>น้ำยาหมด</td>\n",
       "      <td>28</td>\n",
       "    </tr>\n",
       "    <tr>\n",
       "      <th>2</th>\n",
       "      <td>WARD 5C</td>\n",
       "      <td>3</td>\n",
       "      <td>น้ำยาหมด</td>\n",
       "      <td>30</td>\n",
       "    </tr>\n",
       "    <tr>\n",
       "      <th>3</th>\n",
       "      <td>WARD 5C</td>\n",
       "      <td>2</td>\n",
       "      <td>น้ำยาหมด</td>\n",
       "      <td>40</td>\n",
       "    </tr>\n",
       "    <tr>\n",
       "      <th>4</th>\n",
       "      <td>WARD 5C</td>\n",
       "      <td>3</td>\n",
       "      <td>น้ำยาหมด</td>\n",
       "      <td>25</td>\n",
       "    </tr>\n",
       "    <tr>\n",
       "      <th>...</th>\n",
       "      <td>...</td>\n",
       "      <td>...</td>\n",
       "      <td>...</td>\n",
       "      <td>...</td>\n",
       "    </tr>\n",
       "    <tr>\n",
       "      <th>1962</th>\n",
       "      <td>KIDNEY(ศูนย์โรคไต)</td>\n",
       "      <td>1473</td>\n",
       "      <td>แบตเตอร์รี่หมด</td>\n",
       "      <td>153</td>\n",
       "    </tr>\n",
       "    <tr>\n",
       "      <th>1963</th>\n",
       "      <td>KIDNEY(ศูนย์โรคไต)</td>\n",
       "      <td>1474</td>\n",
       "      <td>แบตเตอร์รี่หมด</td>\n",
       "      <td>169</td>\n",
       "    </tr>\n",
       "    <tr>\n",
       "      <th>1964</th>\n",
       "      <td>KIDNEY(ศูนย์โรคไต)</td>\n",
       "      <td>1475</td>\n",
       "      <td>แบตเตอร์รี่หมด</td>\n",
       "      <td>156</td>\n",
       "    </tr>\n",
       "    <tr>\n",
       "      <th>1965</th>\n",
       "      <td>KIDNEY(ศูนย์โรคไต)</td>\n",
       "      <td>1476</td>\n",
       "      <td>แบตเตอร์รี่หมด</td>\n",
       "      <td>157</td>\n",
       "    </tr>\n",
       "    <tr>\n",
       "      <th>1966</th>\n",
       "      <td>KIDNEY(ศูนย์โรคไต)</td>\n",
       "      <td>1477</td>\n",
       "      <td>แบตเตอร์รี่หมด</td>\n",
       "      <td>153</td>\n",
       "    </tr>\n",
       "  </tbody>\n",
       "</table>\n",
       "<p>1967 rows × 4 columns</p>\n",
       "</div>"
      ],
      "text/plain": [
       "                    แผนก  หมายเลขเครื่อง           ปัญหา  \\\n",
       "0                WARD 5C               2        น้ำยาหมด   \n",
       "1                WARD 5C               3        น้ำยาหมด   \n",
       "2                WARD 5C               3        น้ำยาหมด   \n",
       "3                WARD 5C               2        น้ำยาหมด   \n",
       "4                WARD 5C               3        น้ำยาหมด   \n",
       "...                  ...             ...             ...   \n",
       "1962  KIDNEY(ศูนย์โรคไต)            1473  แบตเตอร์รี่หมด   \n",
       "1963  KIDNEY(ศูนย์โรคไต)            1474  แบตเตอร์รี่หมด   \n",
       "1964  KIDNEY(ศูนย์โรคไต)            1475  แบตเตอร์รี่หมด   \n",
       "1965  KIDNEY(ศูนย์โรคไต)            1476  แบตเตอร์รี่หมด   \n",
       "1966  KIDNEY(ศูนย์โรคไต)            1477  แบตเตอร์รี่หมด   \n",
       "\n",
       "      ระยะเวลาในใช้น้ำยา /แบต (วัน)  \n",
       "0                                23  \n",
       "1                                28  \n",
       "2                                30  \n",
       "3                                40  \n",
       "4                                25  \n",
       "...                             ...  \n",
       "1962                            153  \n",
       "1963                            169  \n",
       "1964                            156  \n",
       "1965                            157  \n",
       "1966                            153  \n",
       "\n",
       "[1967 rows x 4 columns]"
      ]
     },
     "execution_count": 14,
     "metadata": {},
     "output_type": "execute_result"
    }
   ],
   "source": [
    "df"
   ]
  },
  {
   "cell_type": "code",
   "execution_count": null,
   "metadata": {},
   "outputs": [],
   "source": [
    "# Display DataFrame columns for debugging\n",
    "st.write(\"DataFrame Columns:\")\n",
    "st.write(df.columns)"
   ]
  },
  {
   "cell_type": "code",
   "execution_count": null,
   "metadata": {},
   "outputs": [],
   "source": [
    "# Define column names\n",
    "department_column = 'แผนก'\n",
    "machine_id_column = 'หมายเลขเครื่อง'\n",
    "issue_column = 'ปัญหา'\n",
    "maintenance_duration_column = 'ระยะเวลาในใช้น้ำยา /แบต (วัน)'\n"
   ]
  },
  {
   "cell_type": "code",
   "execution_count": null,
   "metadata": {},
   "outputs": [],
   "source": [
    "# Ensure correct column names and preprocessing\n",
    "if maintenance_duration_column in df.columns:\n",
    "    df[maintenance_duration_column] = pd.to_numeric(df[maintenance_duration_column], errors='coerce')\n",
    "    df.dropna(subset=[maintenance_duration_column], inplace=True)\n",
    "else:\n",
    "    st.error(f\"Column '{maintenance_duration_column}' not found in the data.\")\n",
    "    st.stop()"
   ]
  },
  {
   "cell_type": "code",
   "execution_count": null,
   "metadata": {},
   "outputs": [
    {
     "data": {
      "text/plain": [
       "DeltaGenerator()"
      ]
     },
     "execution_count": 18,
     "metadata": {},
     "output_type": "execute_result"
    }
   ],
   "source": [
    "# Streamlit app\n",
    "st.title(\"Machinery Maintenance Information and Prediction\")"
   ]
  },
  {
   "cell_type": "code",
   "execution_count": null,
   "metadata": {},
   "outputs": [
    {
     "data": {
      "text/plain": [
       "DeltaGenerator()"
      ]
     },
     "execution_count": 19,
     "metadata": {},
     "output_type": "execute_result"
    }
   ],
   "source": [
    "# Display the data\n",
    "st.header(\"Maintenance Records\")\n",
    "st.table(df)"
   ]
  },
  {
   "cell_type": "code",
   "execution_count": null,
   "metadata": {},
   "outputs": [],
   "source": [
    "\n",
    "# One-hot encode the categorical features\n",
    "encoder = OneHotEncoder(sparse_output=False)\n",
    "encoded_features = encoder.fit_transform(df[[department_column, issue_column]])\n",
    "\n"
   ]
  },
  {
   "cell_type": "code",
   "execution_count": null,
   "metadata": {},
   "outputs": [],
   "source": [
    "\n",
    "# Create a DataFrame with the encoded features\n",
    "encoded_feature_names = encoder.get_feature_names_out([department_column, issue_column])\n",
    "encoded_df = pd.DataFrame(encoded_features, columns=encoded_feature_names)\n"
   ]
  },
  {
   "cell_type": "code",
   "execution_count": null,
   "metadata": {},
   "outputs": [],
   "source": [
    "\n",
    "# Combine the encoded features with the numeric feature\n",
    "X = pd.concat([df[[machine_id_column]], encoded_df], axis=1)\n",
    "y = df[maintenance_duration_column]\n"
   ]
  }
 ],
 "metadata": {
  "language_info": {
   "codemirror_mode": {
    "name": "ipython",
    "version": 3
   },
   "file_extension": ".py",
   "mimetype": "text/x-python",
   "name": "python",
   "nbconvert_exporter": "python",
   "pygments_lexer": "ipython3",
   "version": 3
  }
 },
 "nbformat": 4,
 "nbformat_minor": 2
}
